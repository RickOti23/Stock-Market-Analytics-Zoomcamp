{
  "nbformat": 4,
  "nbformat_minor": 0,
  "metadata": {
    "colab": {
      "provenance": [],
      "authorship_tag": "ABX9TyP47DQS4wW6222FjYyIjgit",
      "include_colab_link": true
    },
    "kernelspec": {
      "name": "python3",
      "display_name": "Python 3"
    },
    "language_info": {
      "name": "python"
    }
  },
  "cells": [
    {
      "cell_type": "markdown",
      "metadata": {
        "id": "view-in-github",
        "colab_type": "text"
      },
      "source": [
        "<a href=\"https://colab.research.google.com/github/RickOti23/Stock-Market-Analytics-Zoomcamp/blob/main/Module_2_Homework.ipynb\" target=\"_parent\"><img src=\"https://colab.research.google.com/assets/colab-badge.svg\" alt=\"Open In Colab\"/></a>"
      ]
    },
    {
      "cell_type": "markdown",
      "source": [
        "# **Question 1: [IPO] Withdrawn IPOs by Company Type**\n",
        "\n",
        "**What is the total withdrawn IPO value (in $ millions) for the company class with the highest total withdrawal value?**\n",
        "\n",
        "From the withdrawn IPO list (stockanalysis.com/ipos/withdrawn), collect and process the data to find out which company type saw the most withdrawn IPO value.\n",
        "\n",
        "Steps:\n",
        "\n",
        "1. **Use pandas.read_html()** with the URL above to load the IPO withdrawal table into a DataFrame. It is a similar process to Code Snippet 1 discussed at the livestream. You should get 99 entries.\n",
        "2. **Create a new column called Company Class, categorizing company names based on patterns like:**\n",
        "\n",
        "* Acquisition Corp or Acquisition Corporation → Acq.Corp\n",
        "* Inc or Incorporated → Inc\n",
        "* Group → Group\n",
        "* Ltd or Limited → Limited\n",
        "* Holdings → Holdings\n",
        "* Others → Other\n",
        "\n",
        "* Order: Please follow the listed order of classes and assign the first matched value (e.g., for 'shenni holdings limited', you assign the 'Limited' class).\n",
        "* Hint: make your function more robust by converting names to lowercase and splitting into words before matching patterns.\n",
        "\n",
        "3. Define a new field Avg. price by parsing the Price Range field (create a function and apply it to the Price Range column). Examples:\n",
        "\n",
        "* '$8.00-$10.00' → 9.0\n",
        "* '$5.00' → 5.0\n",
        "* '-' → None\n",
        "\n",
        "\n",
        "\n",
        "\n",
        "\n",
        "\n",
        "\n",
        "\n",
        "4. Convert Shares Offered to numeric, clean missing or invalid values.\n",
        "\n",
        "5. Create a new column:\n",
        "Withdrawn Value = Shares Offered * Avg Price (71 non-null values)\n",
        "6. Group by Company Class and calculate total withdrawn value.\n",
        "7. Answer: Which class had the highest total value of withdrawals?"
      ],
      "metadata": {
        "id": "BscQr8KlG_-2"
      }
    },
    {
      "cell_type": "code",
      "execution_count": null,
      "metadata": {
        "id": "2GIYjxp2G7kH"
      },
      "outputs": [],
      "source": []
    }
  ]
}